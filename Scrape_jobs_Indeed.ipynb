{
 "cells": [
  {
   "cell_type": "code",
   "execution_count": null,
   "id": "e05a75a2",
   "metadata": {},
   "outputs": [],
   "source": [
    "from selenium import  webdriver \n",
    "import time\n",
    "from selenium.webdriver.common.by import By\n",
    "from selenium import webdriver\n",
    "from selenium.webdriver.common.keys import Keys\n",
    "from selenium.webdriver.support.ui import WebDriverWait\n",
    "from selenium.webdriver.support import expected_conditions as EC"
   ]
  },
  {
   "cell_type": "code",
   "execution_count": null,
   "id": "ea0e79b1",
   "metadata": {},
   "outputs": [],
   "source": [
    "'''These codes are for scraping job search from Indeed from automatically enter keywords and workplace to gett related \n",
    "info as you need.''' \n",
    "'''These codes work perfectly at Jun 20 2022, you may need to change a little when you use as the website do change.'''\n",
    "\n",
    "#set up driver\n",
    "driver = webdriver.Chrome() \n",
    "driver.get('https://www.indeed.com') \n",
    "time.sleep(2)\n",
    "\n",
    "#search job\n",
    "search_job = driver.find_element(by=By.XPATH, value='//*[@id=\"text-input-what\"]')\n",
    "search_job.send_keys(['senior data scientist'])\n",
    "\n",
    "# delete default place values\n",
    "search_where = driver.find_element(By.XPATH,'//*[@id=\"text-input-where\"]')\n",
    "search_where.send_keys(Keys.COMMAND, 'a') \n",
    "search_where.send_keys(Keys.DELETE)\n",
    "#if you want to search some place, e.g., CA, add the following  \n",
    "# search_where.send_keys('CA')\n",
    "\n",
    "\n",
    "#Click\n",
    "search_button = driver.find_element(by=By.XPATH, value='//*[@id=\"jobsearch\"]/button')\n",
    "search_button.click()\n",
    "\n",
    "\n",
    "#let the driver wait 3 seconds to locate the element before exiting out\n",
    "driver.implicitly_wait(3)\n",
    "\n",
    "#sort by date\n",
    "sort_option = driver.find_element(by=By.XPATH, value='//*[@id=\"resultsCol\"]/div[3]/div[4]/div[1]/span[2]/a')\n",
    "sort_option.click()\n",
    "\n",
    "\n"
   ]
  },
  {
   "cell_type": "code",
   "execution_count": null,
   "id": "83d98e95",
   "metadata": {},
   "outputs": [],
   "source": [
    "#lists for related info\n",
    "titles=[]\n",
    "companies=[]\n",
    "locations=[]\n",
    "links =[]\n",
    "reviews=[]\n",
    "salaries = []\n",
    "descriptions=[]\n",
    "dates = []\n",
    "\n",
    "#search 5 pages    \n",
    "for page in range(2,6):\n",
    "\n",
    "    \n",
    "    #get job_card for each page\n",
    "    job_card = driver.find_elements(by=By.XPATH,value='//*[@id=\"mosaic-provider-jobcards\"]/ul/li')\n",
    "\n",
    "    print(len(job_card))\n",
    "    i= 1\n",
    "    for job in job_card:\n",
    "\n",
    "        try:\n",
    "            title=job.find_element(By.XPATH,'//li['+ str(i) + ']/div/div[1]/div/div[1]/div/table[1]/tbody/tr/td/div[1]/h2/a/span').text\n",
    "\n",
    "        except:\n",
    "            title = 'None'\n",
    "\n",
    "        titles.append(title)\n",
    "\n",
    "        try:\n",
    "            link = job.find_element(By.XPATH,'//li['+str(i)+']/div/div[1]/div/div[1]/div/table[1]/tbody/tr/td/div[1]/h2/a').get_attribute(name='href')\n",
    "        except:\n",
    "            link = 'None'\n",
    "        links.append(link)\n",
    "\n",
    "        try:\n",
    "            company = job.find_element(By.XPATH,'//li['+str(i)+']/div/div[1]/div/div[1]/div/table[1]/tbody/tr/td/div[2]/span[1]').text\n",
    "        except:\n",
    "            company = 'None'\n",
    "\n",
    "        companies.append(company)\n",
    "\n",
    "        try:\n",
    "            location = job.find_element(By.XPATH,'//li['+str(i)+']/div/div[1]/div/div[1]/div/table[1]/tbody/tr/td/div[2]/div').text   \n",
    "        except:\n",
    "            location= 'None'\n",
    "        locations.append(location)\n",
    "\n",
    "        try:\n",
    "            salary = job.find_element(By.XPATH,'//li['+str(i)+']/div/div[1]/div/div[1]/div/table[1]/tbody/tr/td/div[3]/div[1]/div').text\n",
    "        except:\n",
    "            salary = ''\n",
    "        salaries.append(salary)\n",
    "\n",
    "\n",
    "        post_date = job.find_element(By.XPATH, '//*[@id=\"mosaic-provider-jobcards\"]/ul/li[2]/div/div[1]/div/div[1]/div/table[2]/tbody/tr[2]/td/div/span').text\n",
    "        dates.append(post_date)    \n",
    "        i += 1\n",
    "        print(i) # so that you know the progress \n",
    "    try: \n",
    "        next_page = driver.find_element(by=By.XPATH, value='//*[@id=\"resultsCol\"]/nav/div/ul/li[' +str(page)+ ']/a')\n",
    "        next_page.click()\n",
    "    except:\n",
    "        next_page = driver.find_element(By.CLASS_NAME, 'pn')\n",
    "        next_page.click() \n",
    "\n"
   ]
  },
  {
   "cell_type": "code",
   "execution_count": null,
   "id": "4b9231eb",
   "metadata": {},
   "outputs": [],
   "source": [
    "# get JD from links\n",
    "descriptions=[]\n",
    "for link in links:\n",
    "    \n",
    "    try:\n",
    "        driver.get(link)\n",
    "        jd = driver.find_element(By.ID,\"jobDescriptionText\").text\n",
    "    except:\n",
    "        jd ='none'\n",
    "    descriptions.append(jd)"
   ]
  },
  {
   "cell_type": "code",
   "execution_count": null,
   "id": "34fabf21",
   "metadata": {},
   "outputs": [],
   "source": [
    "# Save data to DataFrame\n",
    "import pandas as pd\n",
    "df=pd.DataFrame()\n",
    "df['Title']=titles\n",
    "df['Company']=companies\n",
    "df['Location']=locations\n",
    "df['Salary']=salaries\n",
    "df['post_date']=dates\n",
    "df['Description']=descriptions\n",
    "df['Link']=links"
   ]
  },
  {
   "cell_type": "code",
   "execution_count": null,
   "id": "27dcb014",
   "metadata": {},
   "outputs": [],
   "source": [
    "df.head()"
   ]
  },
  {
   "cell_type": "code",
   "execution_count": null,
   "id": "0cc44a3b",
   "metadata": {},
   "outputs": [],
   "source": [
    "df.to_csv(xxxx.csv)"
   ]
  },
  {
   "cell_type": "code",
   "execution_count": null,
   "id": "49090f50",
   "metadata": {},
   "outputs": [],
   "source": [
    "driver.close()"
   ]
  },
  {
   "cell_type": "code",
   "execution_count": null,
   "id": "46f58bf0",
   "metadata": {},
   "outputs": [],
   "source": []
  }
 ],
 "metadata": {
  "kernelspec": {
   "display_name": "Python 3 (ipykernel)",
   "language": "python",
   "name": "python3"
  },
  "language_info": {
   "codemirror_mode": {
    "name": "ipython",
    "version": 3
   },
   "file_extension": ".py",
   "mimetype": "text/x-python",
   "name": "python",
   "nbconvert_exporter": "python",
   "pygments_lexer": "ipython3",
   "version": "3.10.4"
  },
  "toc": {
   "base_numbering": 1,
   "nav_menu": {},
   "number_sections": true,
   "sideBar": true,
   "skip_h1_title": false,
   "title_cell": "Table of Contents",
   "title_sidebar": "Contents",
   "toc_cell": false,
   "toc_position": {},
   "toc_section_display": true,
   "toc_window_display": false
  }
 },
 "nbformat": 4,
 "nbformat_minor": 5
}
